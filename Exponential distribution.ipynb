{
 "cells": [
  {
   "cell_type": "code",
   "execution_count": 9,
   "id": "2e852b6c-c149-49c2-8d5d-4b8125237bcb",
   "metadata": {},
   "outputs": [
    {
     "name": "stdout",
     "output_type": "stream",
     "text": [
      "[ 5.21716174  0.61848137  1.31107951  0.77938195  3.41018724  1.18878188\n",
      "  1.40504658  0.76005745  0.25769848  1.53597263  0.25423923  4.17023665\n",
      "  2.61836937  1.74766046  9.54372482  0.7349947   1.49247053  1.27130089\n",
      "  1.08302495  0.57104586 11.82902138  1.05148116  0.23113056  0.09410612\n",
      "  0.70263003  1.34987081  1.68504941  4.75272237  3.68118305  4.61543554\n",
      "  0.02797856  0.8174039   4.30334069  2.6287307   1.69893253  1.46438116\n",
      "  0.58349647  0.10622239  7.54421887  1.29485178  4.41714516  0.04775191\n",
      "  1.65863297  0.08380014  9.97139537  0.95856365  0.33712043  3.2685186\n",
      "  0.96812431  1.48265006  1.29457696  0.17221415  0.80257211  2.7845613\n",
      "  0.30089517  1.43808235  2.69621415  0.63590076  4.2239093   1.1711841\n",
      "  0.55523625  0.11245057  2.19912897  4.32115627  0.31442896  1.40755358\n",
      "  0.600966    1.20843664  2.41343316  1.33676497  6.28685902  0.14932588\n",
      "  1.91403493  2.7970364   1.57125808  1.89357253  0.11007117  0.28676832\n",
      "  0.98549178  6.45126992  2.25916835  0.14528592  0.08061295  1.04141446\n",
      "  1.95381168  0.96062301  0.6488784   2.7810398   1.11329167  0.16652083\n",
      "  1.7052568   2.79772247  5.62760237  1.90011072  3.55729884  0.76484252\n",
      "  1.11026386  2.41386028  0.47567795  2.48957954]\n"
     ]
    },
    {
     "data": {
      "text/plain": [
       "(array([45., 21., 14.,  8.,  7.,  1.,  1.,  1.,  1.,  1.]),\n",
       " array([0.00228369, 0.12045321, 0.23862273, 0.35679225, 0.47496177,\n",
       "        0.59313129, 0.71130081, 0.82947033, 0.94763985, 1.06580937,\n",
       "        1.18397889]),\n",
       " <BarContainer object of 10 artists>)"
      ]
     },
     "execution_count": 9,
     "metadata": {},
     "output_type": "execute_result"
    },
    {
     "data": {
      "image/png": "[encoded data removed]",
      "text/plain": [
       "<Figure size 432x288 with 1 Axes>"
      ]
     },
     "metadata": {
      "needs_background": "light"
     },
     "output_type": "display_data"
    }
   ],
   "source": [
    "import numpy as np\n",
    "import matplotlib.pyplot as plt\n",
    "import seaborn as sns; sns.set()\n",
    "\n",
    "%matplotlib inline\n",
    "\n",
    "exp_distr = np.random.exponential(scale=2, size=100)\n",
    "\n",
    "print(exp_distr)\n",
    "\n",
    "plt.hist(exp_dist)\n"
   ]
  },
  {
   "cell_type": "code",
   "execution_count": 10,
   "id": "b20877ad-bf07-4b91-8530-0f3e28b745e6",
   "metadata": {},
   "outputs": [
    {
     "data": {
      "text/plain": [
       "\u001b[0;31mDocstring:\u001b[0m\n",
       "weibull(a, size=None)\n",
       "\n",
       "Draw samples from a Weibull distribution.\n",
       "\n",
       "Draw samples from a 1-parameter Weibull distribution with the given\n",
       "shape parameter `a`.\n",
       "\n",
       ".. math:: X = (-ln(U))^{1/a}\n",
       "\n",
       "Here, U is drawn from the uniform distribution over (0,1].\n",
       "\n",
       "The more common 2-parameter Weibull, including a scale parameter\n",
       ":math:`\\lambda` is just :math:`X = \\lambda(-ln(U))^{1/a}`.\n",
       "\n",
       ".. note::\n",
       "    New code should use the ``weibull`` method of a ``default_rng()``\n",
       "    instance instead; please see the :ref:`random-quick-start`.\n",
       "\n",
       "Parameters\n",
       "----------\n",
       "a : float or array_like of floats\n",
       "    Shape parameter of the distribution.  Must be nonnegative.\n",
       "size : int or tuple of ints, optional\n",
       "    Output shape.  If the given shape is, e.g., ``(m, n, k)``, then\n",
       "    ``m * n * k`` samples are drawn.  If size is ``None`` (default),\n",
       "    a single value is returned if ``a`` is a scalar.  Otherwise,\n",
       "    ``np.array(a).size`` samples are drawn.\n",
       "\n",
       "Returns\n",
       "-------\n",
       "out : ndarray or scalar\n",
       "    Drawn samples from the parameterized Weibull distribution.\n",
       "\n",
       "See Also\n",
       "--------\n",
       "scipy.stats.weibull_max\n",
       "scipy.stats.weibull_min\n",
       "scipy.stats.genextreme\n",
       "gumbel\n",
       "Generator.weibull: which should be used for new code.\n",
       "\n",
       "Notes\n",
       "-----\n",
       "The Weibull (or Type III asymptotic extreme value distribution\n",
       "for smallest values, SEV Type III, or Rosin-Rammler\n",
       "distribution) is one of a class of Generalized Extreme Value\n",
       "(GEV) distributions used in modeling extreme value problems.\n",
       "This class includes the Gumbel and Frechet distributions.\n",
       "\n",
       "The probability density for the Weibull distribution is\n",
       "\n",
       ".. math:: p(x) = \\frac{a}\n",
       "                 {\\lambda}(\\frac{x}{\\lambda})^{a-1}e^{-(x/\\lambda)^a},\n",
       "\n",
       "where :math:`a` is the shape and :math:`\\lambda` the scale.\n",
       "\n",
       "The function has its peak (the mode) at\n",
       ":math:`\\lambda(\\frac{a-1}{a})^{1/a}`.\n",
       "\n",
       "When ``a = 1``, the Weibull distribution reduces to the exponential\n",
       "distribution.\n",
       "\n",
       "References\n",
       "----------\n",
       ".. [1] Waloddi Weibull, Royal Technical University, Stockholm,\n",
       "       1939 \"A Statistical Theory Of The Strength Of Materials\",\n",
       "       Ingeniorsvetenskapsakademiens Handlingar Nr 151, 1939,\n",
       "       Generalstabens Litografiska Anstalts Forlag, Stockholm.\n",
       ".. [2] Waloddi Weibull, \"A Statistical Distribution Function of\n",
       "       Wide Applicability\", Journal Of Applied Mechanics ASME Paper\n",
       "       1951.\n",
       ".. [3] Wikipedia, \"Weibull distribution\",\n",
       "       https://en.wikipedia.org/wiki/Weibull_distribution\n",
       "\n",
       "Examples\n",
       "--------\n",
       "Draw samples from the distribution:\n",
       "\n",
       ">>> a = 5. # shape\n",
       ">>> s = np.random.weibull(a, 1000)\n",
       "\n",
       "Display the histogram of the samples, along with\n",
       "the probability density function:\n",
       "\n",
       ">>> import matplotlib.pyplot as plt\n",
       ">>> x = np.arange(1,100.)/50.\n",
       ">>> def weib(x,n,a):\n",
       "...     return (a / n) * (x / n)**(a - 1) * np.exp(-(x / n)**a)\n",
       "\n",
       ">>> count, bins, ignored = plt.hist(np.random.weibull(5.,1000))\n",
       ">>> x = np.arange(1,100.)/50.\n",
       ">>> scale = count.max()/weib(x, 1., 5.).max()\n",
       ">>> plt.plot(x, weib(x, 1., 5.)*scale)\n",
       ">>> plt.show()\n",
       "\u001b[0;31mType:\u001b[0m      builtin_function_or_method\n"
      ]
     },
     "metadata": {},
     "output_type": "display_data"
    }
   ],
   "source": [
    "np.random.weibull?"
   ]
  },
  {
   "cell_type": "code",
   "execution_count": null,
   "id": "128413e4-73e3-44b1-96c8-df9ea27c332a",
   "metadata": {},
   "outputs": [],
   "source": []
  }
 ],
 "metadata": {
  "kernelspec": {
   "display_name": "Python 3 (ipykernel)",
   "language": "python",
   "name": "python3"
  },
  "language_info": {
   "codemirror_mode": {
    "name": "ipython",
    "version": 3
   },
   "file_extension": ".py",
   "mimetype": "text/x-python",
   "name": "python",
   "nbconvert_exporter": "python",
   "pygments_lexer": "ipython3",
   "version": "3.9.6"
  }
 },
 "nbformat": 4,
 "nbformat_minor": 5
}
