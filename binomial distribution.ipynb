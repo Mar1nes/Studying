{
 "cells": [
  {
   "cell_type": "code",
   "execution_count": 7,
   "id": "ef5d816f-0daa-45a3-82bf-fbfb524539bb",
   "metadata": {},
   "outputs": [
    {
     "name": "stdout",
     "output_type": "stream",
     "text": [
      "p1 = 0.07289999999999992\n",
      "p2 = 0.99144\n"
     ]
    }
   ],
   "source": [
    "import scipy.stats as stats\n",
    "\n",
    "\n",
    "p1 = stats.binom.pmf(2, 5, 0.1)  #pmf - Probability Mass Function\n",
    "\"\"\"\n",
    "     p1 - probability to get 2 successes from 5 trials, \n",
    "     where probaility of success equal 0.1\n",
    "\"\"\"\n",
    "\n",
    "p2 = stats.binom.cdf(2, 5, 0.1)  #cdf - Cumulative Distribution Function\n",
    "\"\"\"\n",
    "    p2 - probability to get 2 or less successes from 5 trials, \n",
    "    where probability of success is equal 0.1\n",
    "\"\"\"\n",
    "\n",
    "print(f'p1 = {p1}')\n",
    "print(f'p2 = {p2}')\n"
   ]
  },
  {
   "cell_type": "code",
   "execution_count": null,
   "id": "891de4d9-7a2a-4469-adb4-953c1fcded32",
   "metadata": {},
   "outputs": [],
   "source": []
  }
 ],
 "metadata": {
  "kernelspec": {
   "display_name": "Python 3 (ipykernel)",
   "language": "python",
   "name": "python3"
  },
  "language_info": {
   "codemirror_mode": {
    "name": "ipython",
    "version": 3
   },
   "file_extension": ".py",
   "mimetype": "text/x-python",
   "name": "python",
   "nbconvert_exporter": "python",
   "pygments_lexer": "ipython3",
   "version": "3.9.6"
  }
 },
 "nbformat": 4,
 "nbformat_minor": 5
}
