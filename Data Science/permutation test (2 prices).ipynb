{
 "cells": [
  {
   "cell_type": "markdown",
   "id": "f8161a90-e054-47aa-8b39-9f9258bb2708",
   "metadata": {},
   "source": [
    "DATA:\n",
    "\n",
    "Price A: 200 - conversion; 23539 - no conversion\n",
    "\n",
    "Price B: 182 - conversion; 22406 - no conversion\n",
    "\n",
    "\n",
    "Is there difference between conversions? Is it due to chance?\n",
    "\n"
   ]
  },
  {
   "cell_type": "code",
   "execution_count": 1,
   "id": "d2e5dd4c-20ab-4bbf-8a6f-c5427dd22e26",
   "metadata": {},
   "outputs": [
    {
     "name": "stdout",
     "output_type": "stream",
     "text": [
      "Observed difference is 0.0368%\n"
     ]
    },
    {
     "data": {
      "image/png": "[encoded data removed]",
      "text/plain": [
       "<Figure size 720x720 with 1 Axes>"
      ]
     },
     "metadata": {},
     "output_type": "display_data"
    }
   ],
   "source": [
    "import pandas as pd\n",
    "import numpy as np\n",
    "import random\n",
    "import matplotlib.pyplot as plt\n",
    "import seaborn as sns; sns.set()\n",
    "\n",
    "nA = 23539+200\n",
    "nB = 22406+182\n",
    "obs_dif = 100*(200/nA-182/nB)\n",
    "print(f'Observed difference is {obs_dif:.4f}%')\n",
    "conversion = [0]*(23539+22406)\n",
    "conversion.extend([1]*(200+182))\n",
    "conversion = pd.Series(conversion)\n",
    "\n",
    "def perm_func(x, nA, nB):\n",
    "    n = nA + nB\n",
    "    idx_B = set(random.sample(range(n), nB))\n",
    "    idx_A = set(range(n))-idx_B\n",
    "    return x.loc[idx_B].mean()-x.loc[idx_A].mean()\n",
    "\n",
    "R=1000\n",
    "perm_diffs = [100*perm_func(conversion, nA, nB) for _ in range(R)]\n",
    "\n",
    "fig, ax = plt.subplots(figsize=(10, 10))\n",
    "ax.hist(perm_diffs, bins=11, rwidth=0.9)\n",
    "ax.axvline(x=obs_dif, color='red', lw=3)\n",
    "ax.text(0.05, 210, 'Observed\\ndifference', bbox = {'facecolor':'white'})\n",
    "ax.set_xlabel('Conversion rate (percent)')\n",
    "ax.set_ylabel('Frequency')\n",
    "plt.title('Permutation distribution histplot')\n",
    "plt.show()"
   ]
  },
  {
   "cell_type": "markdown",
   "id": "bccc73be-4451-4940-8abe-d9426a550759",
   "metadata": {},
   "source": [
    "See the histogramm of 1000 resampled results: observed difference 0.0368% is well within the range of chance variation."
   ]
  },
  {
   "cell_type": "code",
   "execution_count": 15,
   "id": "9acbbdcc-fb41-4392-bf7c-0a994e4506bf",
   "metadata": {},
   "outputs": [
    {
     "name": "stdout",
     "output_type": "stream",
     "text": [
      "p-Value = 0.323\n"
     ]
    }
   ],
   "source": [
    "p_val = np.mean([diff>obs_dif for diff in perm_diffs])\n",
    "print(f'p-Value = {p_val}')"
   ]
  },
  {
   "cell_type": "markdown",
   "id": "98a1c889-8096-46b3-8d79-b8827cf30f18",
   "metadata": {},
   "source": [
    "p-Value = 0.323 - this means that we will get this or more marginal result due to chance in 32.3% of cases. I.e\n",
    "the observed difference is not statistically significant."
   ]
  },
  {
   "cell_type": "code",
   "execution_count": 43,
   "id": "6c6b1e73-c084-4ee7-8a0c-cea1f32c605a",
   "metadata": {},
   "outputs": [
    {
     "name": "stdout",
     "output_type": "stream",
     "text": [
      "p-Value = 0.3498\n"
     ]
    }
   ],
   "source": [
    "# In this case we can calculate p-Value without Permutation test:\n",
    "\n",
    "\"\"\"\n",
    "    In the case above, we don't need to use Permutation test for calculate\n",
    "    p-Value. As we have Binomial distribution (0 & 1), we can aproximate it \n",
    "    with Normal distribution using function 'stats.chi2_contingency' \n",
    "    which apply values from data above.\n",
    "\"\"\"\n",
    "\n",
    "import numpy as np\n",
    "from scipy import stats\n",
    "\n",
    "survivors = np.array([[200, 23539], [182, 22406]])\n",
    "chi2, p_value, df, _ = stats.chi2_contingency(survivors)\n",
    "p_value /= 2\n",
    "print(f'p-Value = {p_value:.4f}')"
   ]
  },
  {
   "cell_type": "code",
   "execution_count": 50,
   "id": "adf858f7-3f61-472b-8714-c0dc0701efbf",
   "metadata": {},
   "outputs": [
    {
     "name": "stdout",
     "output_type": "stream",
     "text": [
      "p-Value (Permutation test): 0.323\n",
      "p-Value (aproximating the Normal distribution): 0.3498\n"
     ]
    }
   ],
   "source": [
    "\"\"\"\n",
    "p-Value calculated by Permutation test is almost equal p-Value\n",
    "calculated by aproximating Normal distribution.\n",
    "\"\"\"\n",
    "print('p-Value (Permutation test):', p_val)\n",
    "print(f'p-Value (aproximating the Normal distribution): {p_value:.4f}')"
   ]
  }
 ],
 "metadata": {
  "kernelspec": {
   "display_name": "Python 3 (ipykernel)",
   "language": "python",
   "name": "python3"
  },
  "language_info": {
   "codemirror_mode": {
    "name": "ipython",
    "version": 3
   },
   "file_extension": ".py",
   "mimetype": "text/x-python",
   "name": "python",
   "nbconvert_exporter": "python",
   "pygments_lexer": "ipython3",
   "version": "3.9.6"
  }
 },
 "nbformat": 4,
 "nbformat_minor": 5
}
