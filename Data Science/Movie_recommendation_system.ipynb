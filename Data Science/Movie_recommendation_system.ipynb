{
 "cells": [
  {
   "cell_type": "markdown",
   "metadata": {
    "id": "WRCFZHPnLna3"
   },
   "source": [
    "# 1. Описание"
   ]
  },
  {
   "cell_type": "markdown",
   "metadata": {
    "id": "cBuTdo3iJtB7"
   },
   "source": [
    "Задание на стажировку:\n",
    "\n",
    "Необходимо построить векторные предстваления (эмбеддинги) пользователей и фильмов используя нейросетевые подходы, чтобы можно было по эмбеддингу пользователя искать похожие эмбеддинги фильмов и рекомендовать ему их.\n",
    "\n",
    "Обратить внимание на:\n",
    "1. Разбиение данных на обучение и валидацию, обоснование\n",
    "2. Выбор и обоснование метрики\n",
    "3. Разработка архитектуры нейронной сети с пояснениями\n",
    "4. Обучение и валидация\n",
    "5. Решение должно быть воспроизводимым, в формате Jupyter Notebook (Google Colab / файл на Github) с подробным пояснением на каждом шаге.\n",
    "\n",
    "В ответе прикрепить ссылку на Google Colab notebook решение (проверьте настройки приватности!) или ссылку на Github репозиторий с Jupyter Notebook решением.\n",
    "\n",
    "Данные: https://grouplens.org/datasets/movielens/latest/"
   ]
  },
  {
   "cell_type": "markdown",
   "metadata": {
    "id": "KZCMV85ELdjy"
   },
   "source": [
    "# 2. Импорт"
   ]
  },
  {
   "cell_type": "code",
   "execution_count": 1,
   "metadata": {
    "executionInfo": {
     "elapsed": 13359,
     "status": "ok",
     "timestamp": 1683628569507,
     "user": {
      "displayName": "Marines",
      "userId": "08518313453408057027"
     },
     "user_tz": -180
    },
    "id": "E37dj_FGJmI9"
   },
   "outputs": [],
   "source": [
    "# импорт библиотек\n",
    "import matplotlib.pyplot as plt\n",
    "import numpy as np\n",
    "import pandas as pd\n",
    "import re\n",
    "\n",
    "from sklearn.metrics import mean_absolute_error\n",
    "from sklearn.model_selection import train_test_split\n",
    "from sklearn.preprocessing import LabelEncoder\n",
    "from tensorflow import keras\n",
    "from tensorflow.keras.optimizers import Adam\n",
    "from tqdm import tqdm\n",
    "tqdm.pandas()\n",
    "\n",
    "STATE = 777"
   ]
  },
  {
   "cell_type": "code",
   "execution_count": 2,
   "metadata": {
    "colab": {
     "base_uri": "https://localhost:8080/"
    },
    "executionInfo": {
     "elapsed": 3611,
     "status": "ok",
     "timestamp": 1683628573105,
     "user": {
      "displayName": "Marines",
      "userId": "08518313453408057027"
     },
     "user_tz": -180
    },
    "id": "bVdj5EOPuDEA",
    "outputId": "3a983770-9ec7-4bed-9144-ffcca23f226e"
   },
   "outputs": [],
   "source": [
    "# подключим Google drive\n",
    "# from google.colab import drive\n",
    "# drive.mount('/content/drive')"
   ]
  },
  {
   "cell_type": "code",
   "execution_count": 3,
   "metadata": {
    "executionInfo": {
     "elapsed": 24838,
     "status": "ok",
     "timestamp": 1683628597942,
     "user": {
      "displayName": "Marines",
      "userId": "08518313453408057027"
     },
     "user_tz": -180
    },
    "id": "RjjhyPxSLbnU"
   },
   "outputs": [],
   "source": [
    "# загрузка данных\n",
    "try:\n",
    "    df_gen_scores = pd.read_csv('/content/drive/MyDrive/Colab Notebooks/movielens/genome-scores.csv')\n",
    "    df_gen_tags = pd.read_csv('/content/drive/MyDrive/Colab Notebooks/movielens/genome-tags.csv')\n",
    "    df_links = pd.read_csv('/content/drive/MyDrive/Colab Notebooks/movielens/links.csv')\n",
    "    df_movies = pd.read_csv('/content/drive/MyDrive/Colab Notebooks/movielens/movies.csv')\n",
    "    df_ratings = pd.read_csv('/content/drive/MyDrive/Colab Notebooks/movielens/ratings.csv')\n",
    "    df_tags = pd.read_csv('/content/drive/MyDrive/Colab Notebooks/movielens/tags.csv')\n",
    "except:\n",
    "    df_gen_scores = pd.read_csv('data/genome-scores.csv')\n",
    "    df_gen_tags = pd.read_csv('data/genome-tags.csv')\n",
    "    df_links = pd.read_csv('data/links.csv')\n",
    "    df_movies = pd.read_csv('data/movies.csv')\n",
    "    df_ratings = pd.read_csv('data/ratings.csv')\n",
    "    df_tags = pd.read_csv('data/tags.csv')\n",
    "\n",
    "all_df = {'df_gen_scores': df_gen_scores,\n",
    "          'df_gen_tags': df_gen_tags,\n",
    "          'df_links': df_links,\n",
    "          'df_movies':df_movies,\n",
    "          'df_ratings': df_ratings,\n",
    "          'df_tags': df_tags}"
   ]
  },
  {
   "cell_type": "code",
   "execution_count": 4,
   "metadata": {
    "colab": {
     "base_uri": "https://localhost:8080/",
     "height": 1000
    },
    "executionInfo": {
     "elapsed": 3449,
     "status": "ok",
     "timestamp": 1683628601378,
     "user": {
      "displayName": "Marines",
      "userId": "08518313453408057027"
     },
     "user_tz": -180
    },
    "id": "M--ifUPsYj_X",
    "outputId": "838065dd-99b7-451f-a2c6-c183429f0d35"
   },
   "outputs": [
    {
     "name": "stdout",
     "output_type": "stream",
     "text": [
      "DF_GEN_SCORES (14862528, 3)\n"
     ]
    },
    {
     "data": {
      "text/html": [
       "<div>\n",
       "<style scoped>\n",
       "    .dataframe tbody tr th:only-of-type {\n",
       "        vertical-align: middle;\n",
       "    }\n",
       "\n",
       "    .dataframe tbody tr th {\n",
       "        vertical-align: top;\n",
       "    }\n",
       "\n",
       "    .dataframe thead th {\n",
       "        text-align: right;\n",
       "    }\n",
       "</style>\n",
       "<table border=\"1\" class=\"dataframe\">\n",
       "  <thead>\n",
       "    <tr style=\"text-align: right;\">\n",
       "      <th></th>\n",
       "      <th>movieId</th>\n",
       "      <th>tagId</th>\n",
       "      <th>relevance</th>\n",
       "    </tr>\n",
       "  </thead>\n",
       "  <tbody>\n",
       "    <tr>\n",
       "      <th>4302857</th>\n",
       "      <td>4246</td>\n",
       "      <td>666</td>\n",
       "      <td>0.06475</td>\n",
       "    </tr>\n",
       "    <tr>\n",
       "      <th>9524221</th>\n",
       "      <td>45335</td>\n",
       "      <td>518</td>\n",
       "      <td>0.02350</td>\n",
       "    </tr>\n",
       "    <tr>\n",
       "      <th>1063606</th>\n",
       "      <td>1037</td>\n",
       "      <td>1031</td>\n",
       "      <td>0.07550</td>\n",
       "    </tr>\n",
       "  </tbody>\n",
       "</table>\n",
       "</div>"
      ],
      "text/plain": [
       "         movieId  tagId  relevance\n",
       "4302857     4246    666    0.06475\n",
       "9524221    45335    518    0.02350\n",
       "1063606     1037   1031    0.07550"
      ]
     },
     "metadata": {},
     "output_type": "display_data"
    },
    {
     "name": "stdout",
     "output_type": "stream",
     "text": [
      "\n",
      "\n",
      "DF_GEN_TAGS (1128, 2)\n"
     ]
    },
    {
     "data": {
      "text/html": [
       "<div>\n",
       "<style scoped>\n",
       "    .dataframe tbody tr th:only-of-type {\n",
       "        vertical-align: middle;\n",
       "    }\n",
       "\n",
       "    .dataframe tbody tr th {\n",
       "        vertical-align: top;\n",
       "    }\n",
       "\n",
       "    .dataframe thead th {\n",
       "        text-align: right;\n",
       "    }\n",
       "</style>\n",
       "<table border=\"1\" class=\"dataframe\">\n",
       "  <thead>\n",
       "    <tr style=\"text-align: right;\">\n",
       "      <th></th>\n",
       "      <th>tagId</th>\n",
       "      <th>tag</th>\n",
       "    </tr>\n",
       "  </thead>\n",
       "  <tbody>\n",
       "    <tr>\n",
       "      <th>991</th>\n",
       "      <td>992</td>\n",
       "      <td>suprisingly clever</td>\n",
       "    </tr>\n",
       "    <tr>\n",
       "      <th>283</th>\n",
       "      <td>284</td>\n",
       "      <td>dancing</td>\n",
       "    </tr>\n",
       "    <tr>\n",
       "      <th>969</th>\n",
       "      <td>970</td>\n",
       "      <td>stop-motion</td>\n",
       "    </tr>\n",
       "  </tbody>\n",
       "</table>\n",
       "</div>"
      ],
      "text/plain": [
       "     tagId                 tag\n",
       "991    992  suprisingly clever\n",
       "283    284             dancing\n",
       "969    970         stop-motion"
      ]
     },
     "metadata": {},
     "output_type": "display_data"
    },
    {
     "name": "stdout",
     "output_type": "stream",
     "text": [
      "\n",
      "\n",
      "DF_LINKS (58098, 3)\n"
     ]
    },
    {
     "data": {
      "text/html": [
       "<div>\n",
       "<style scoped>\n",
       "    .dataframe tbody tr th:only-of-type {\n",
       "        vertical-align: middle;\n",
       "    }\n",
       "\n",
       "    .dataframe tbody tr th {\n",
       "        vertical-align: top;\n",
       "    }\n",
       "\n",
       "    .dataframe thead th {\n",
       "        text-align: right;\n",
       "    }\n",
       "</style>\n",
       "<table border=\"1\" class=\"dataframe\">\n",
       "  <thead>\n",
       "    <tr style=\"text-align: right;\">\n",
       "      <th></th>\n",
       "      <th>movieId</th>\n",
       "      <th>imdbId</th>\n",
       "      <th>tmdbId</th>\n",
       "    </tr>\n",
       "  </thead>\n",
       "  <tbody>\n",
       "    <tr>\n",
       "      <th>9958</th>\n",
       "      <td>32605</td>\n",
       "      <td>397103</td>\n",
       "      <td>45824.0</td>\n",
       "    </tr>\n",
       "    <tr>\n",
       "      <th>32372</th>\n",
       "      <td>135055</td>\n",
       "      <td>351278</td>\n",
       "      <td>189334.0</td>\n",
       "    </tr>\n",
       "    <tr>\n",
       "      <th>32067</th>\n",
       "      <td>134326</td>\n",
       "      <td>80439</td>\n",
       "      <td>10986.0</td>\n",
       "    </tr>\n",
       "  </tbody>\n",
       "</table>\n",
       "</div>"
      ],
      "text/plain": [
       "       movieId  imdbId    tmdbId\n",
       "9958     32605  397103   45824.0\n",
       "32372   135055  351278  189334.0\n",
       "32067   134326   80439   10986.0"
      ]
     },
     "metadata": {},
     "output_type": "display_data"
    },
    {
     "name": "stdout",
     "output_type": "stream",
     "text": [
      "\n",
      "\n",
      "DF_MOVIES (58098, 3)\n"
     ]
    },
    {
     "data": {
      "text/html": [
       "<div>\n",
       "<style scoped>\n",
       "    .dataframe tbody tr th:only-of-type {\n",
       "        vertical-align: middle;\n",
       "    }\n",
       "\n",
       "    .dataframe tbody tr th {\n",
       "        vertical-align: top;\n",
       "    }\n",
       "\n",
       "    .dataframe thead th {\n",
       "        text-align: right;\n",
       "    }\n",
       "</style>\n",
       "<table border=\"1\" class=\"dataframe\">\n",
       "  <thead>\n",
       "    <tr style=\"text-align: right;\">\n",
       "      <th></th>\n",
       "      <th>movieId</th>\n",
       "      <th>title</th>\n",
       "      <th>genres</th>\n",
       "    </tr>\n",
       "  </thead>\n",
       "  <tbody>\n",
       "    <tr>\n",
       "      <th>25546</th>\n",
       "      <td>117061</td>\n",
       "      <td>The Green (2011)</td>\n",
       "      <td>Drama</td>\n",
       "    </tr>\n",
       "    <tr>\n",
       "      <th>40729</th>\n",
       "      <td>154798</td>\n",
       "      <td>A Story of the Forest: Mavka (1980)</td>\n",
       "      <td>Fantasy</td>\n",
       "    </tr>\n",
       "    <tr>\n",
       "      <th>3868</th>\n",
       "      <td>3961</td>\n",
       "      <td>Ghoulies (1985)</td>\n",
       "      <td>Horror</td>\n",
       "    </tr>\n",
       "  </tbody>\n",
       "</table>\n",
       "</div>"
      ],
      "text/plain": [
       "       movieId                                title   genres\n",
       "25546   117061                     The Green (2011)    Drama\n",
       "40729   154798  A Story of the Forest: Mavka (1980)  Fantasy\n",
       "3868      3961                      Ghoulies (1985)   Horror"
      ]
     },
     "metadata": {},
     "output_type": "display_data"
    },
    {
     "name": "stdout",
     "output_type": "stream",
     "text": [
      "\n",
      "\n",
      "DF_RATINGS (27753444, 4)\n"
     ]
    },
    {
     "data": {
      "text/html": [
       "<div>\n",
       "<style scoped>\n",
       "    .dataframe tbody tr th:only-of-type {\n",
       "        vertical-align: middle;\n",
       "    }\n",
       "\n",
       "    .dataframe tbody tr th {\n",
       "        vertical-align: top;\n",
       "    }\n",
       "\n",
       "    .dataframe thead th {\n",
       "        text-align: right;\n",
       "    }\n",
       "</style>\n",
       "<table border=\"1\" class=\"dataframe\">\n",
       "  <thead>\n",
       "    <tr style=\"text-align: right;\">\n",
       "      <th></th>\n",
       "      <th>userId</th>\n",
       "      <th>movieId</th>\n",
       "      <th>rating</th>\n",
       "      <th>timestamp</th>\n",
       "    </tr>\n",
       "  </thead>\n",
       "  <tbody>\n",
       "    <tr>\n",
       "      <th>24981836</th>\n",
       "      <td>255169</td>\n",
       "      <td>2924</td>\n",
       "      <td>4.0</td>\n",
       "      <td>1320437124</td>\n",
       "    </tr>\n",
       "    <tr>\n",
       "      <th>26374015</th>\n",
       "      <td>269285</td>\n",
       "      <td>8961</td>\n",
       "      <td>3.5</td>\n",
       "      <td>1245928319</td>\n",
       "    </tr>\n",
       "    <tr>\n",
       "      <th>4356477</th>\n",
       "      <td>44706</td>\n",
       "      <td>48304</td>\n",
       "      <td>3.0</td>\n",
       "      <td>1245386471</td>\n",
       "    </tr>\n",
       "  </tbody>\n",
       "</table>\n",
       "</div>"
      ],
      "text/plain": [
       "          userId  movieId  rating   timestamp\n",
       "24981836  255169     2924     4.0  1320437124\n",
       "26374015  269285     8961     3.5  1245928319\n",
       "4356477    44706    48304     3.0  1245386471"
      ]
     },
     "metadata": {},
     "output_type": "display_data"
    },
    {
     "name": "stdout",
     "output_type": "stream",
     "text": [
      "\n",
      "\n",
      "DF_TAGS (1108997, 4)\n"
     ]
    },
    {
     "data": {
      "text/html": [
       "<div>\n",
       "<style scoped>\n",
       "    .dataframe tbody tr th:only-of-type {\n",
       "        vertical-align: middle;\n",
       "    }\n",
       "\n",
       "    .dataframe tbody tr th {\n",
       "        vertical-align: top;\n",
       "    }\n",
       "\n",
       "    .dataframe thead th {\n",
       "        text-align: right;\n",
       "    }\n",
       "</style>\n",
       "<table border=\"1\" class=\"dataframe\">\n",
       "  <thead>\n",
       "    <tr style=\"text-align: right;\">\n",
       "      <th></th>\n",
       "      <th>userId</th>\n",
       "      <th>movieId</th>\n",
       "      <th>tag</th>\n",
       "      <th>timestamp</th>\n",
       "    </tr>\n",
       "  </thead>\n",
       "  <tbody>\n",
       "    <tr>\n",
       "      <th>548051</th>\n",
       "      <td>103013</td>\n",
       "      <td>2821</td>\n",
       "      <td>island</td>\n",
       "      <td>1265085761</td>\n",
       "    </tr>\n",
       "    <tr>\n",
       "      <th>373812</th>\n",
       "      <td>73406</td>\n",
       "      <td>92637</td>\n",
       "      <td>ghost</td>\n",
       "      <td>1527400424</td>\n",
       "    </tr>\n",
       "    <tr>\n",
       "      <th>540696</th>\n",
       "      <td>102632</td>\n",
       "      <td>541</td>\n",
       "      <td>existentialism</td>\n",
       "      <td>1275911006</td>\n",
       "    </tr>\n",
       "  </tbody>\n",
       "</table>\n",
       "</div>"
      ],
      "text/plain": [
       "        userId  movieId             tag   timestamp\n",
       "548051  103013     2821          island  1265085761\n",
       "373812   73406    92637           ghost  1527400424\n",
       "540696  102632      541  existentialism  1275911006"
      ]
     },
     "metadata": {},
     "output_type": "display_data"
    },
    {
     "name": "stdout",
     "output_type": "stream",
     "text": [
      "\n",
      "\n"
     ]
    }
   ],
   "source": [
    "# посмотрим на данные\n",
    "for name, df in all_df.items():\n",
    "    print(name.upper(), df.shape)\n",
    "    display(df.sample(3))\n",
    "    print('\\n')"
   ]
  },
  {
   "cell_type": "code",
   "execution_count": 5,
   "metadata": {
    "colab": {
     "base_uri": "https://localhost:8080/",
     "height": 206
    },
    "executionInfo": {
     "elapsed": 16408,
     "status": "ok",
     "timestamp": 1683628617781,
     "user": {
      "displayName": "Marines",
      "userId": "08518313453408057027"
     },
     "user_tz": -180
    },
    "id": "GVhk9hXn07Xc",
    "outputId": "9bfa26a5-7a32-4472-fd6a-f58e6ae6f5b2"
   },
   "outputs": [
    {
     "data": {
      "text/html": [
       "<div>\n",
       "<style scoped>\n",
       "    .dataframe tbody tr th:only-of-type {\n",
       "        vertical-align: middle;\n",
       "    }\n",
       "\n",
       "    .dataframe tbody tr th {\n",
       "        vertical-align: top;\n",
       "    }\n",
       "\n",
       "    .dataframe thead th {\n",
       "        text-align: right;\n",
       "    }\n",
       "</style>\n",
       "<table border=\"1\" class=\"dataframe\">\n",
       "  <thead>\n",
       "    <tr style=\"text-align: right;\">\n",
       "      <th></th>\n",
       "      <th>userId</th>\n",
       "      <th>movieId</th>\n",
       "      <th>rating</th>\n",
       "      <th>timestamp</th>\n",
       "      <th>title</th>\n",
       "      <th>genres</th>\n",
       "    </tr>\n",
       "  </thead>\n",
       "  <tbody>\n",
       "    <tr>\n",
       "      <th>9481471</th>\n",
       "      <td>97773</td>\n",
       "      <td>7361</td>\n",
       "      <td>4.5</td>\n",
       "      <td>1450041065</td>\n",
       "      <td>Eternal Sunshine of the Spotless Mind (2004)</td>\n",
       "      <td>Drama|Romance|Sci-Fi</td>\n",
       "    </tr>\n",
       "    <tr>\n",
       "      <th>3571006</th>\n",
       "      <td>36666</td>\n",
       "      <td>62155</td>\n",
       "      <td>4.0</td>\n",
       "      <td>1288047492</td>\n",
       "      <td>Nick and Norah's Infinite Playlist (2008)</td>\n",
       "      <td>Comedy|Drama|Romance</td>\n",
       "    </tr>\n",
       "    <tr>\n",
       "      <th>22521998</th>\n",
       "      <td>230314</td>\n",
       "      <td>349</td>\n",
       "      <td>4.0</td>\n",
       "      <td>839009453</td>\n",
       "      <td>Clear and Present Danger (1994)</td>\n",
       "      <td>Action|Crime|Drama|Thriller</td>\n",
       "    </tr>\n",
       "    <tr>\n",
       "      <th>1761959</th>\n",
       "      <td>18019</td>\n",
       "      <td>2106</td>\n",
       "      <td>4.0</td>\n",
       "      <td>944604262</td>\n",
       "      <td>Swing Kids (1993)</td>\n",
       "      <td>Drama|War</td>\n",
       "    </tr>\n",
       "    <tr>\n",
       "      <th>23665398</th>\n",
       "      <td>241795</td>\n",
       "      <td>87430</td>\n",
       "      <td>2.5</td>\n",
       "      <td>1518747617</td>\n",
       "      <td>Green Lantern (2011)</td>\n",
       "      <td>Action|Adventure|Sci-Fi</td>\n",
       "    </tr>\n",
       "  </tbody>\n",
       "</table>\n",
       "</div>"
      ],
      "text/plain": [
       "          userId  movieId  rating   timestamp  \\\n",
       "9481471    97773     7361     4.5  1450041065   \n",
       "3571006    36666    62155     4.0  1288047492   \n",
       "22521998  230314      349     4.0   839009453   \n",
       "1761959    18019     2106     4.0   944604262   \n",
       "23665398  241795    87430     2.5  1518747617   \n",
       "\n",
       "                                                 title  \\\n",
       "9481471   Eternal Sunshine of the Spotless Mind (2004)   \n",
       "3571006      Nick and Norah's Infinite Playlist (2008)   \n",
       "22521998               Clear and Present Danger (1994)   \n",
       "1761959                              Swing Kids (1993)   \n",
       "23665398                          Green Lantern (2011)   \n",
       "\n",
       "                               genres  \n",
       "9481471          Drama|Romance|Sci-Fi  \n",
       "3571006          Comedy|Drama|Romance  \n",
       "22521998  Action|Crime|Drama|Thriller  \n",
       "1761959                     Drama|War  \n",
       "23665398      Action|Adventure|Sci-Fi  "
      ]
     },
     "execution_count": 5,
     "metadata": {},
     "output_type": "execute_result"
    }
   ],
   "source": [
    "# объединим таблицы df_ratings и df_movies одну\n",
    "df = df_ratings.merge(df_movies, on='movieId', how='left')\n",
    "df.sample(5)"
   ]
  },
  {
   "cell_type": "markdown",
   "metadata": {
    "id": "yT2NlRtF6S5N"
   },
   "source": [
    "# 3. Краткий анализ"
   ]
  },
  {
   "cell_type": "code",
   "execution_count": 6,
   "metadata": {
    "colab": {
     "base_uri": "https://localhost:8080/"
    },
    "executionInfo": {
     "elapsed": 3,
     "status": "ok",
     "timestamp": 1683628617781,
     "user": {
      "displayName": "Marines",
      "userId": "08518313453408057027"
     },
     "user_tz": -180
    },
    "id": "LBQUTjMI7YE4",
    "outputId": "fb382509-b978-44e3-e901-3a29a7740348"
   },
   "outputs": [
    {
     "name": "stdout",
     "output_type": "stream",
     "text": [
      "<class 'pandas.core.frame.DataFrame'>\n",
      "Int64Index: 27753444 entries, 0 to 27753443\n",
      "Data columns (total 6 columns):\n",
      " #   Column     Dtype  \n",
      "---  ------     -----  \n",
      " 0   userId     int64  \n",
      " 1   movieId    int64  \n",
      " 2   rating     float64\n",
      " 3   timestamp  int64  \n",
      " 4   title      object \n",
      " 5   genres     object \n",
      "dtypes: float64(1), int64(3), object(2)\n",
      "memory usage: 1.4+ GB\n"
     ]
    }
   ],
   "source": [
    "df.info()"
   ]
  },
  {
   "cell_type": "code",
   "execution_count": 7,
   "metadata": {
    "colab": {
     "base_uri": "https://localhost:8080/",
     "height": 590
    },
    "executionInfo": {
     "elapsed": 13049,
     "status": "ok",
     "timestamp": 1683628630828,
     "user": {
      "displayName": "Marines",
      "userId": "08518313453408057027"
     },
     "user_tz": -180
    },
    "id": "-Ntg1dWo6X0h",
    "outputId": "d41bd1dd-3992-4df5-df74-18e91f34b628"
   },
   "outputs": [
    {
     "data": {
      "text/html": [
       "<div>\n",
       "<style scoped>\n",
       "    .dataframe tbody tr th:only-of-type {\n",
       "        vertical-align: middle;\n",
       "    }\n",
       "\n",
       "    .dataframe tbody tr th {\n",
       "        vertical-align: top;\n",
       "    }\n",
       "\n",
       "    .dataframe thead th {\n",
       "        text-align: right;\n",
       "    }\n",
       "</style>\n",
       "<table border=\"1\" class=\"dataframe\">\n",
       "  <thead>\n",
       "    <tr style=\"text-align: right;\">\n",
       "      <th></th>\n",
       "      <th>userId</th>\n",
       "      <th>movieId</th>\n",
       "      <th>rating</th>\n",
       "      <th>timestamp</th>\n",
       "    </tr>\n",
       "  </thead>\n",
       "  <tbody>\n",
       "    <tr>\n",
       "      <th>count</th>\n",
       "      <td>2.775344e+07</td>\n",
       "      <td>2.775344e+07</td>\n",
       "      <td>2.775344e+07</td>\n",
       "      <td>2.775344e+07</td>\n",
       "    </tr>\n",
       "    <tr>\n",
       "      <th>mean</th>\n",
       "      <td>1.419420e+05</td>\n",
       "      <td>1.848800e+04</td>\n",
       "      <td>3.530445e+00</td>\n",
       "      <td>1.193122e+09</td>\n",
       "    </tr>\n",
       "    <tr>\n",
       "      <th>std</th>\n",
       "      <td>8.170740e+04</td>\n",
       "      <td>3.510263e+04</td>\n",
       "      <td>1.066353e+00</td>\n",
       "      <td>2.160482e+08</td>\n",
       "    </tr>\n",
       "    <tr>\n",
       "      <th>min</th>\n",
       "      <td>1.000000e+00</td>\n",
       "      <td>1.000000e+00</td>\n",
       "      <td>5.000000e-01</td>\n",
       "      <td>7.896520e+08</td>\n",
       "    </tr>\n",
       "    <tr>\n",
       "      <th>25%</th>\n",
       "      <td>7.117600e+04</td>\n",
       "      <td>1.097000e+03</td>\n",
       "      <td>3.000000e+00</td>\n",
       "      <td>9.986053e+08</td>\n",
       "    </tr>\n",
       "    <tr>\n",
       "      <th>50%</th>\n",
       "      <td>1.420220e+05</td>\n",
       "      <td>2.716000e+03</td>\n",
       "      <td>3.500000e+00</td>\n",
       "      <td>1.174256e+09</td>\n",
       "    </tr>\n",
       "    <tr>\n",
       "      <th>75%</th>\n",
       "      <td>2.124590e+05</td>\n",
       "      <td>7.150000e+03</td>\n",
       "      <td>4.000000e+00</td>\n",
       "      <td>1.422744e+09</td>\n",
       "    </tr>\n",
       "    <tr>\n",
       "      <th>max</th>\n",
       "      <td>2.832280e+05</td>\n",
       "      <td>1.938860e+05</td>\n",
       "      <td>5.000000e+00</td>\n",
       "      <td>1.537945e+09</td>\n",
       "    </tr>\n",
       "  </tbody>\n",
       "</table>\n",
       "</div>"
      ],
      "text/plain": [
       "             userId       movieId        rating     timestamp\n",
       "count  2.775344e+07  2.775344e+07  2.775344e+07  2.775344e+07\n",
       "mean   1.419420e+05  1.848800e+04  3.530445e+00  1.193122e+09\n",
       "std    8.170740e+04  3.510263e+04  1.066353e+00  2.160482e+08\n",
       "min    1.000000e+00  1.000000e+00  5.000000e-01  7.896520e+08\n",
       "25%    7.117600e+04  1.097000e+03  3.000000e+00  9.986053e+08\n",
       "50%    1.420220e+05  2.716000e+03  3.500000e+00  1.174256e+09\n",
       "75%    2.124590e+05  7.150000e+03  4.000000e+00  1.422744e+09\n",
       "max    2.832280e+05  1.938860e+05  5.000000e+00  1.537945e+09"
      ]
     },
     "metadata": {},
     "output_type": "display_data"
    },
    {
     "data": {
      "image/png": "[encoded data removed]",
      "text/plain": [
       "<Figure size 1200x300 with 3 Axes>"
      ]
     },
     "metadata": {},
     "output_type": "display_data"
    }
   ],
   "source": [
    "display(df.describe())\n",
    "\n",
    "_, axes = plt.subplots(ncols=3, figsize=(12, 3))\n",
    "df.rating.plot(kind='hist', edgecolor='black', alpha=.6, ax=axes[0]).set_title('Rating distribution', fontsize=10)\n",
    "df.userId.plot(kind='hist', edgecolor='black', alpha=.6, ax=axes[1]).set_title('User ID distribution', fontsize=10)\n",
    "df.movieId.plot(kind='hist', edgecolor='black', alpha=.6, ax=axes[2]).set_title('Movie ID distribution', fontsize=10)\n",
    "plt.tight_layout()\n",
    "plt.show()"
   ]
  },
  {
   "cell_type": "code",
   "execution_count": 8,
   "metadata": {
    "colab": {
     "base_uri": "https://localhost:8080/"
    },
    "executionInfo": {
     "elapsed": 934,
     "status": "ok",
     "timestamp": 1683628631749,
     "user": {
      "displayName": "Marines",
      "userId": "08518313453408057027"
     },
     "user_tz": -180
    },
    "id": "_YevX7iR9bjm",
    "outputId": "4c6e0629-6410-4685-ce84-3a2d2fe75b30"
   },
   "outputs": [
    {
     "name": "stdout",
     "output_type": "stream",
     "text": [
      "Unique USER ID: 283228\n",
      "Unique MOVIE ID: 53889\n",
      "Unique RATING VALUES: 10\n"
     ]
    }
   ],
   "source": [
    "print(f'''Unique USER ID: {df.userId.nunique()}\n",
    "Unique MOVIE ID: {df.movieId.nunique()}\n",
    "Unique RATING VALUES: {df.rating.nunique()}''')"
   ]
  },
  {
   "cell_type": "code",
   "execution_count": 9,
   "metadata": {
    "colab": {
     "base_uri": "https://localhost:8080/"
    },
    "executionInfo": {
     "elapsed": 411,
     "status": "ok",
     "timestamp": 1683628632159,
     "user": {
      "displayName": "Marines",
      "userId": "08518313453408057027"
     },
     "user_tz": -180
    },
    "id": "f2z1BJdP-Uu8",
    "outputId": "105ca943-a8d7-4872-fbd6-b20dcc631453"
   },
   "outputs": [
    {
     "name": "stdout",
     "output_type": "stream",
     "text": [
      "rating values: 0.5 1.0 1.5 2.0 2.5 3.0 3.5 4.0 4.5 5.0\n"
     ]
    }
   ],
   "source": [
    "print('rating values:', *np.sort(df.rating.unique()))"
   ]
  },
  {
   "cell_type": "markdown",
   "metadata": {
    "id": "1blnUC7x-F9u"
   },
   "source": [
    "- всего 283 228 пользователей и 53889 фильма; \n",
    "- рейтинг может быть от 0.5 до 5 с шагом 0.5, всего 10 возможныз вариантов;\n",
    "- средний рейтинг фильмов: 3.5;"
   ]
  },
  {
   "cell_type": "markdown",
   "metadata": {
    "id": "IhqUI_qyyvK1"
   },
   "source": [
    "# 4. Предобработка"
   ]
  },
  {
   "cell_type": "code",
   "execution_count": 10,
   "metadata": {
    "id": "oKB5p1GVTUJr"
   },
   "outputs": [
    {
     "name": "stdout",
     "output_type": "stream",
     "text": [
      "пропуски - 0, дубликаты - 0\n"
     ]
    }
   ],
   "source": [
    "# приведем названия колонок к привычному виду и заодно проверим данные на наличие пропусков и дубликатов;\n",
    "for col_name in df.columns:\n",
    "    df.rename(columns={col_name: ('_i').join(col_name.split('I'))}, inplace=True) \n",
    "print(f'пропуски - {df.isna().sum().sum()}, дубликаты - {df.duplicated().sum()}')\n",
    "\n",
    "# избавимся от колонки `timestamp`;\n",
    "# df = df.sort_values(by='timestamp').reset_index(drop='True')\n",
    "df = df.drop('timestamp', axis=1)\n",
    "\n",
    "# для уменьшения диапазона значений movie_id применим LabelEncoder();\n",
    "movie_id_enc = LabelEncoder()\n",
    "df['movie_id'] = movie_id_enc.fit_transform(df['movie_id'])\n",
    "\n",
    "# сформируем целевой признак - нормализованные значения рейтингов;\n",
    "min_rate, max_rate = df['rating'].min(), df['rating'].max()\n",
    "df['y'] = df['rating'].apply(lambda x: (x - min_rate) / (max_rate - min_rate)).values"
   ]
  },
  {
   "cell_type": "code",
   "execution_count": 11,
   "metadata": {
    "id": "LzNEQfhIMEtD"
   },
   "outputs": [
    {
     "data": {
      "image/png": "[encoded data removed]",
      "text/plain": [
       "<Figure size 800x300 with 2 Axes>"
      ]
     },
     "metadata": {},
     "output_type": "display_data"
    }
   ],
   "source": [
    "_, axes = plt.subplots(ncols=2, figsize=(8, 3))\n",
    "df.y.plot(kind='hist', edgecolor='black', alpha=.4, ax=axes[0], color='green').set_title('y (rating centered) distribution', fontsize=10)\n",
    "df.movie_id.plot(kind='hist', edgecolor='black', alpha=.4, ax=axes[1], color='green').set_title('Movie id (encoded) distribution', fontsize=10)\n",
    "plt.tight_layout()\n",
    "plt.show()"
   ]
  },
  {
   "cell_type": "markdown",
   "metadata": {
    "id": "QH9uxXkgSOgS"
   },
   "source": [
    "Наша целевая переменная 'y' - нормализованные значения рейтингов фильмову.\n",
    "\n",
    "За счет кодирования id фильмов, удалось существенно сузить диапазон значений для упрощения вычисления эмбеддингов.\n",
    "\n",
    "Если в дальнейшем подключать к системе признаки из других таблиц, нужно будет выполнить аналогичное преобразование, используя обученный энкодер `movie_id_enc`."
   ]
  },
  {
   "cell_type": "code",
   "execution_count": 12,
   "metadata": {
    "id": "UVxDchkPaAg_"
   },
   "outputs": [
    {
     "name": "stderr",
     "output_type": "stream",
     "text": [
      "100%|███████████████████████████████████████████| 27753444/27753444 [01:01<00:00, 454468.74it/s]\n",
      "100%|███████████████████████████████████████████| 27753444/27753444 [01:51<00:00, 249125.57it/s]\n"
     ]
    }
   ],
   "source": [
    "def allocate_realease_year(x):\n",
    "    year = re.findall('[0-9][0-9][0-9][0-9]', x)\n",
    "    if len(year)>0:\n",
    "        return int(year[-1])\n",
    "    return None\n",
    "\n",
    "def clear_title(x):\n",
    "    x = re.sub('[()0-9,]', ' ', x)\n",
    "    x = (' ').join([word for word in x.split() if word.lower() not in ['the']])\n",
    "    return x\n",
    "\n",
    "# выделим из названия новый признак - год выхода фильма;\n",
    "df['release_year'] = df['title'].progress_apply(allocate_realease_year)\n",
    "\n",
    "# очистим названия фильмов от года и слова \"The\";\n",
    "df['title'] = df['title'].progress_apply(clear_title)"
   ]
  },
  {
   "cell_type": "code",
   "execution_count": 13,
   "metadata": {
    "id": "7iUg5Lg01qig"
   },
   "outputs": [
    {
     "data": {
      "text/html": [
       "<div>\n",
       "<style scoped>\n",
       "    .dataframe tbody tr th:only-of-type {\n",
       "        vertical-align: middle;\n",
       "    }\n",
       "\n",
       "    .dataframe tbody tr th {\n",
       "        vertical-align: top;\n",
       "    }\n",
       "\n",
       "    .dataframe thead th {\n",
       "        text-align: right;\n",
       "    }\n",
       "</style>\n",
       "<table border=\"1\" class=\"dataframe\">\n",
       "  <thead>\n",
       "    <tr style=\"text-align: right;\">\n",
       "      <th></th>\n",
       "      <th>user_id</th>\n",
       "      <th>movie_id</th>\n",
       "      <th>rating</th>\n",
       "      <th>title</th>\n",
       "      <th>genres</th>\n",
       "      <th>y</th>\n",
       "      <th>release_year</th>\n",
       "    </tr>\n",
       "  </thead>\n",
       "  <tbody>\n",
       "    <tr>\n",
       "      <th>20923849</th>\n",
       "      <td>213677</td>\n",
       "      <td>3000</td>\n",
       "      <td>4.0</td>\n",
       "      <td>Babes in Toyland</td>\n",
       "      <td>Children|Comedy|Fantasy|Musical</td>\n",
       "      <td>0.777778</td>\n",
       "      <td>1934.0</td>\n",
       "    </tr>\n",
       "    <tr>\n",
       "      <th>15423690</th>\n",
       "      <td>157636</td>\n",
       "      <td>13677</td>\n",
       "      <td>5.0</td>\n",
       "      <td>Apollo : To Edge and Back</td>\n",
       "      <td>Documentary</td>\n",
       "      <td>1.000000</td>\n",
       "      <td>1994.0</td>\n",
       "    </tr>\n",
       "    <tr>\n",
       "      <th>9417119</th>\n",
       "      <td>97078</td>\n",
       "      <td>26172</td>\n",
       "      <td>2.0</td>\n",
       "      <td>Terminator Genisys</td>\n",
       "      <td>Action|Adventure|Sci-Fi|Thriller</td>\n",
       "      <td>0.333333</td>\n",
       "      <td>2015.0</td>\n",
       "    </tr>\n",
       "    <tr>\n",
       "      <th>15567299</th>\n",
       "      <td>158927</td>\n",
       "      <td>6836</td>\n",
       "      <td>3.0</td>\n",
       "      <td>Master and Commander: Far Side of World</td>\n",
       "      <td>Adventure|Drama|War</td>\n",
       "      <td>0.555556</td>\n",
       "      <td>2003.0</td>\n",
       "    </tr>\n",
       "    <tr>\n",
       "      <th>2176</th>\n",
       "      <td>32</td>\n",
       "      <td>0</td>\n",
       "      <td>4.5</td>\n",
       "      <td>Toy Story</td>\n",
       "      <td>Adventure|Animation|Children|Comedy|Fantasy</td>\n",
       "      <td>0.888889</td>\n",
       "      <td>1995.0</td>\n",
       "    </tr>\n",
       "  </tbody>\n",
       "</table>\n",
       "</div>"
      ],
      "text/plain": [
       "          user_id  movie_id  rating                                    title  \\\n",
       "20923849   213677      3000     4.0                         Babes in Toyland   \n",
       "15423690   157636     13677     5.0                Apollo : To Edge and Back   \n",
       "9417119     97078     26172     2.0                       Terminator Genisys   \n",
       "15567299   158927      6836     3.0  Master and Commander: Far Side of World   \n",
       "2176           32         0     4.5                                Toy Story   \n",
       "\n",
       "                                               genres         y  release_year  \n",
       "20923849              Children|Comedy|Fantasy|Musical  0.777778        1934.0  \n",
       "15423690                                  Documentary  1.000000        1994.0  \n",
       "9417119              Action|Adventure|Sci-Fi|Thriller  0.333333        2015.0  \n",
       "15567299                          Adventure|Drama|War  0.555556        2003.0  \n",
       "2176      Adventure|Animation|Children|Comedy|Fantasy  0.888889        1995.0  "
      ]
     },
     "execution_count": 13,
     "metadata": {},
     "output_type": "execute_result"
    }
   ],
   "source": [
    "df.sample(5)"
   ]
  },
  {
   "cell_type": "markdown",
   "metadata": {
    "id": "0PXpJuCKdG1b"
   },
   "source": [
    "### Результат анализа и предобработки данных:\n",
    "- объединены две таблицы 'ratings' и 'movies';\n",
    "- из названий фильмов выделен новый признак - 'release_year';\n",
    "- для сужения диапазона значений, 'movie_id' был закодирован с применением LabelEncoder() из библиотеки sklearn;\n",
    "- для улучшения качества предсказаний, значения рейтингов были нормализованы (переменная 'y');\n",
    "- для формирования тренировочной и тестовой выборки, данные были отсортированы в хронологическом порядке (по переменной 'timestamp');\n",
    "- удалена переменная 'timestamp';\n",
    "- пропусков и дубликтов не обнаружено;\n",
    "- типы данных соответствующие;\n",
    "- аномальных значений не обнаружено;\n",
    "\n",
    "\n",
    "Уникальных пользователей: 283 228;<br>\n",
    "Уникальных фильмов: 53 889;<br>\n",
    "Рейтинг варьируется от 0.5 до 5 (с шагом 0.5);<br>\n",
    "Средний рейтинг фильмов: 3.5."
   ]
  },
  {
   "cell_type": "markdown",
   "metadata": {
    "id": "3L98VZ6acwpn"
   },
   "source": [
    "# 5. Формирование тестовой и тренировочной выборки\n",
    "Для разделения данных на тестовую и валидационную выборки будем учитывать активность пользователей (количество поставленных оценок). Таким образом мы исключим проблему \"холодного старта\" на этапе обучения и валидации. Новичками будем считать тех, кто поставил меньше 5 оценок. Для новичков можно составить единый список, например из ТОП 15 фильмов за всю историю. Оценки остальных пользователей разделим на треинровочную и тестовую выборки, чтобы в валидационной выборке не оказалось id, которых нет в тренировочном наборе."
   ]
  },
  {
   "cell_type": "code",
   "execution_count": 14,
   "metadata": {},
   "outputs": [
    {
     "name": "stdout",
     "output_type": "stream",
     "text": [
      "Mean activity: 98.0\n"
     ]
    },
    {
     "data": {
      "text/html": [
       "<div>\n",
       "<style scoped>\n",
       "    .dataframe tbody tr th:only-of-type {\n",
       "        vertical-align: middle;\n",
       "    }\n",
       "\n",
       "    .dataframe tbody tr th {\n",
       "        vertical-align: top;\n",
       "    }\n",
       "\n",
       "    .dataframe thead th {\n",
       "        text-align: right;\n",
       "    }\n",
       "</style>\n",
       "<table border=\"1\" class=\"dataframe\">\n",
       "  <thead>\n",
       "    <tr style=\"text-align: right;\">\n",
       "      <th></th>\n",
       "      <th>user_id</th>\n",
       "      <th>activity</th>\n",
       "    </tr>\n",
       "  </thead>\n",
       "  <tbody>\n",
       "    <tr>\n",
       "      <th>123099</th>\n",
       "      <td>123100</td>\n",
       "      <td>23715</td>\n",
       "    </tr>\n",
       "    <tr>\n",
       "      <th>117489</th>\n",
       "      <td>117490</td>\n",
       "      <td>9279</td>\n",
       "    </tr>\n",
       "    <tr>\n",
       "      <th>134595</th>\n",
       "      <td>134596</td>\n",
       "      <td>8381</td>\n",
       "    </tr>\n",
       "    <tr>\n",
       "      <th>212342</th>\n",
       "      <td>212343</td>\n",
       "      <td>7884</td>\n",
       "    </tr>\n",
       "    <tr>\n",
       "      <th>242682</th>\n",
       "      <td>242683</td>\n",
       "      <td>7515</td>\n",
       "    </tr>\n",
       "  </tbody>\n",
       "</table>\n",
       "</div>"
      ],
      "text/plain": [
       "        user_id  activity\n",
       "123099   123100     23715\n",
       "117489   117490      9279\n",
       "134595   134596      8381\n",
       "212342   212343      7884\n",
       "242682   242683      7515"
      ]
     },
     "metadata": {},
     "output_type": "display_data"
    }
   ],
   "source": [
    "user_activity = df.groupby('user_id', as_index=False) \\\n",
    ".agg({'rating':'count'}) \\\n",
    ".rename(columns={'rating':'activity'}) \\\n",
    ".sort_values(by='activity', ascending=False)\n",
    "print('Mean activity:', round(user_activity['activity'].mean(), 0))\n",
    "display(user_activity.head())"
   ]
  },
  {
   "cell_type": "markdown",
   "metadata": {},
   "source": [
    "Есть аномально высокие значения активности - пока не будем их трогать. "
   ]
  },
  {
   "cell_type": "code",
   "execution_count": 15,
   "metadata": {},
   "outputs": [
    {
     "name": "stdout",
     "output_type": "stream",
     "text": [
      "Train size: (22173398, 7)\n",
      "Test size: (5543324, 7)\n"
     ]
    }
   ],
   "source": [
    "# выделяем отдельно id новичков\n",
    "newbies = user_activity[user_activity['activity'] < 5]['user_id']\n",
    "\n",
    "# id опытных пользователей\n",
    "experienced = user_activity[user_activity['activity'] >= 5]['user_id']\n",
    "\n",
    "# оставляем в данных только опытных\n",
    "df_expirienced = df.query('user_id.isin(@experienced)')\n",
    "\n",
    "# создаем треинровочный набор данных: из опытных выбираем случайно 80% данных\n",
    "train = df_expirienced.sample(frac=.8, random_state=STATE)\n",
    "\n",
    "# берем то что осталось чтобы сформировать валидационную выборку\n",
    "test = df_expirienced.drop(train.index)\n",
    "\n",
    "# оствыляем в валидационной выборке только тех пользователей, которые есть в тренировочном наборе\n",
    "test = test.query('user_id.isin(@train.user_id)')\n",
    "\n",
    "print('Train size:', train.shape)\n",
    "print('Test size:', test.shape)"
   ]
  },
  {
   "cell_type": "markdown",
   "metadata": {},
   "source": [
    "Проверим чтобы в валидационном наборе не было пользователей, отсутствующих в тренировочной выборке."
   ]
  },
  {
   "cell_type": "code",
   "execution_count": 16,
   "metadata": {},
   "outputs": [
    {
     "name": "stdout",
     "output_type": "stream",
     "text": [
      "TRAIN: 266975\n",
      "TEST: 258007\n",
      "COMMON: 258007\n",
      "DIFF: 0\n"
     ]
    }
   ],
   "source": [
    "train_user_id = set(train.user_id) \n",
    "test_user_id = set(test.user_id)\n",
    "common_user_id = train_user_id & test_user_id \n",
    "diff = test_user_id - common_user_id\n",
    "print(f'''TRAIN: {len(train_user_id)}\n",
    "TEST: {len(test_user_id)}\n",
    "COMMON: {len(common_user_id)}\n",
    "DIFF: {len(diff)}''')"
   ]
  },
  {
   "cell_type": "markdown",
   "metadata": {},
   "source": [
    "Их нет."
   ]
  },
  {
   "cell_type": "code",
   "execution_count": 17,
   "metadata": {},
   "outputs": [
    {
     "data": {
      "text/html": [
       "<div>\n",
       "<style scoped>\n",
       "    .dataframe tbody tr th:only-of-type {\n",
       "        vertical-align: middle;\n",
       "    }\n",
       "\n",
       "    .dataframe tbody tr th {\n",
       "        vertical-align: top;\n",
       "    }\n",
       "\n",
       "    .dataframe thead th {\n",
       "        text-align: right;\n",
       "    }\n",
       "</style>\n",
       "<table border=\"1\" class=\"dataframe\">\n",
       "  <thead>\n",
       "    <tr style=\"text-align: right;\">\n",
       "      <th></th>\n",
       "      <th>title</th>\n",
       "      <th>sum_rating</th>\n",
       "      <th>release_year</th>\n",
       "    </tr>\n",
       "  </thead>\n",
       "  <tbody>\n",
       "    <tr>\n",
       "      <th>44319</th>\n",
       "      <td>Toy Story</td>\n",
       "      <td>437164.5</td>\n",
       "      <td>2010.0</td>\n",
       "    </tr>\n",
       "    <tr>\n",
       "      <th>38965</th>\n",
       "      <td>Shawshank Redemption</td>\n",
       "      <td>433566.0</td>\n",
       "      <td>1994.0</td>\n",
       "    </tr>\n",
       "    <tr>\n",
       "      <th>16026</th>\n",
       "      <td>Forrest Gump</td>\n",
       "      <td>393651.0</td>\n",
       "      <td>1994.0</td>\n",
       "    </tr>\n",
       "    <tr>\n",
       "      <th>35242</th>\n",
       "      <td>Pulp Fiction</td>\n",
       "      <td>385700.0</td>\n",
       "      <td>1994.0</td>\n",
       "    </tr>\n",
       "    <tr>\n",
       "      <th>39365</th>\n",
       "      <td>Silence of Lambs</td>\n",
       "      <td>364905.0</td>\n",
       "      <td>1991.0</td>\n",
       "    </tr>\n",
       "    <tr>\n",
       "      <th>28272</th>\n",
       "      <td>Matrix</td>\n",
       "      <td>350836.0</td>\n",
       "      <td>1999.0</td>\n",
       "    </tr>\n",
       "    <tr>\n",
       "      <th>40972</th>\n",
       "      <td>Star Wars: Episode IV - A New Hope</td>\n",
       "      <td>337115.0</td>\n",
       "      <td>1977.0</td>\n",
       "    </tr>\n",
       "    <tr>\n",
       "      <th>38004</th>\n",
       "      <td>Schindler's List</td>\n",
       "      <td>304479.5</td>\n",
       "      <td>1993.0</td>\n",
       "    </tr>\n",
       "    <tr>\n",
       "      <th>23240</th>\n",
       "      <td>Jurassic Park</td>\n",
       "      <td>280195.5</td>\n",
       "      <td>1993.0</td>\n",
       "    </tr>\n",
       "    <tr>\n",
       "      <th>15178</th>\n",
       "      <td>Fight Club</td>\n",
       "      <td>277861.5</td>\n",
       "      <td>1999.0</td>\n",
       "    </tr>\n",
       "    <tr>\n",
       "      <th>6473</th>\n",
       "      <td>Braveheart</td>\n",
       "      <td>275795.5</td>\n",
       "      <td>1995.0</td>\n",
       "    </tr>\n",
       "    <tr>\n",
       "      <th>40973</th>\n",
       "      <td>Star Wars: Episode V - Empire Strikes Back</td>\n",
       "      <td>272074.0</td>\n",
       "      <td>1980.0</td>\n",
       "    </tr>\n",
       "    <tr>\n",
       "      <th>45632</th>\n",
       "      <td>Usual Suspects</td>\n",
       "      <td>266874.0</td>\n",
       "      <td>1995.0</td>\n",
       "    </tr>\n",
       "    <tr>\n",
       "      <th>17619</th>\n",
       "      <td>Godfather</td>\n",
       "      <td>263890.5</td>\n",
       "      <td>1972.0</td>\n",
       "    </tr>\n",
       "    <tr>\n",
       "      <th>40974</th>\n",
       "      <td>Star Wars: Episode VI - Return of Jedi</td>\n",
       "      <td>263170.5</td>\n",
       "      <td>1983.0</td>\n",
       "    </tr>\n",
       "  </tbody>\n",
       "</table>\n",
       "</div>"
      ],
      "text/plain": [
       "                                            title  sum_rating  release_year\n",
       "44319                                   Toy Story    437164.5        2010.0\n",
       "38965                        Shawshank Redemption    433566.0        1994.0\n",
       "16026                                Forrest Gump    393651.0        1994.0\n",
       "35242                                Pulp Fiction    385700.0        1994.0\n",
       "39365                            Silence of Lambs    364905.0        1991.0\n",
       "28272                                      Matrix    350836.0        1999.0\n",
       "40972          Star Wars: Episode IV - A New Hope    337115.0        1977.0\n",
       "38004                            Schindler's List    304479.5        1993.0\n",
       "23240                               Jurassic Park    280195.5        1993.0\n",
       "15178                                  Fight Club    277861.5        1999.0\n",
       "6473                                   Braveheart    275795.5        1995.0\n",
       "40973  Star Wars: Episode V - Empire Strikes Back    272074.0        1980.0\n",
       "45632                              Usual Suspects    266874.0        1995.0\n",
       "17619                                   Godfather    263890.5        1972.0\n",
       "40974      Star Wars: Episode VI - Return of Jedi    263170.5        1983.0"
      ]
     },
     "execution_count": 17,
     "metadata": {},
     "output_type": "execute_result"
    }
   ],
   "source": [
    "# ТОП-15 фильмов\n",
    "\n",
    "top_15 = df.groupby('title', as_index=False) \\\n",
    ".agg({'rating': 'sum', 'release_year':'max'}) \\\n",
    ".rename(columns={'rating':'sum_rating'}) \\\n",
    ".sort_values(by='sum_rating', ascending=False).head(15)\n",
    "\n",
    "top_15"
   ]
  },
  {
   "cell_type": "markdown",
   "metadata": {
    "id": "pbNGQeqUY5Kd"
   },
   "source": [
    "# 6. Архитектура нейронной сети\n",
    "\n",
    "Идея заключается в формировании отдельных векторных представлений для пользователей и фильмов - эмбеддингов. Эмбеддинг пользователя и эмбеддинг фильма будут объединятся в единый вектор признаков, который  будет подаваться на слой flatten для преобразования размерности. Далее будет следовать несколько скрытых слоев с произвольным количеством нейронов и функцией активации Relu - для отбрасывания отрицательных значений в признаках. Последний линейный слой будет включать всего один нейрон для предсказания значения целевой переменной (нормализованного рейтинга).\n",
    "\n",
    "\n",
    "В качетсве метрики пока возьмем MAE среднюю абсолютную ошибку, т.к. ее просто интерпретировать, а в качестве функции потерь - среднюю квадратичную ошибку."
   ]
  },
  {
   "cell_type": "code",
   "execution_count": 18,
   "metadata": {
    "executionInfo": {
     "elapsed": 758,
     "status": "ok",
     "timestamp": 1683610649981,
     "user": {
      "displayName": "Marines",
      "userId": "08518313453408057027"
     },
     "user_tz": -180
    },
    "id": "cFihfKW_Q5kS"
   },
   "outputs": [],
   "source": [
    "# задаем размер эмбеддинга\n",
    "EMBEDDING_SIZE = 12\n",
    "\n",
    "# формируем эмбеддинг пользователя\n",
    "user_id_input = keras.Input(shape=(1,), name='user_id')\n",
    "user_emb = keras.layers.Embedding(df.user_id.max()+1, EMBEDDING_SIZE, \n",
    "                                       input_length=1, name='user_embedding')(user_id_input)\n",
    "\n",
    "# формируем эмбеддинг фильма\n",
    "movie_id_input = keras.Input(shape=(1,), name='movie_id')                                       \n",
    "movie_emb = keras.layers.Embedding(df.movie_id.max()+1, EMBEDDING_SIZE, \n",
    "                                        input_length=1, name='movie_embedding')(movie_id_input)\n",
    "\n",
    "# объединяем эмбеддинги в один\n",
    "concat = keras.layers.Concatenate()([user_emb, movie_emb])\n",
    "\n",
    "# слой для удаления лишней размерности входного вектора\n",
    "out = keras.layers.Flatten()(concat)\n",
    "\n",
    "# скрытые слои\n",
    "out = keras.layers.Dense(26, activation='relu')(out)\n",
    "out = keras.layers.Dense(12, activation='relu')(out)\n",
    "out = keras.layers.Dense(8, activation='relu')(out)\n",
    "out = keras.layers.Dense(4, activation='relu')(out)\n",
    "# линейный слой с одним нейроном\n",
    "out = keras.layers.Dense(1, activation='linear', name='prediction')(out)\n",
    "\n",
    "model = keras.Model(inputs = [user_id_input, movie_id_input], outputs = out)\n",
    "# model.summary()\n",
    "\n",
    "optimaizer = Adam(learning_rate=0.001)\n",
    "model.compile(optimizer=optimaizer, loss='MSE', metrics=['mae'])"
   ]
  },
  {
   "cell_type": "markdown",
   "metadata": {
    "id": "jkkffDosc5DH"
   },
   "source": [
    "# 7. Обучение модели"
   ]
  },
  {
   "cell_type": "code",
   "execution_count": 19,
   "metadata": {
    "colab": {
     "base_uri": "https://localhost:8080/"
    },
    "executionInfo": {
     "elapsed": 1879976,
     "status": "ok",
     "timestamp": 1683612536157,
     "user": {
      "displayName": "Marines",
      "userId": "08518313453408057027"
     },
     "user_tz": -180
    },
    "id": "uSTb7BTvaT8N",
    "outputId": "fe6bb40a-959a-4193-ec19-1dd523cf490c"
   },
   "outputs": [
    {
     "name": "stdout",
     "output_type": "stream",
     "text": [
      "Epoch 1/7\n",
      "4435/4435 [==============================] - 188s 42ms/step - loss: 0.0441 - mae: 0.1566 - val_loss: 0.0356 - val_mae: 0.1440\n",
      "Epoch 2/7\n",
      "4435/4435 [==============================] - 184s 42ms/step - loss: 0.0345 - mae: 0.1414 - val_loss: 0.0345 - val_mae: 0.1416\n",
      "Epoch 3/7\n",
      "4435/4435 [==============================] - 181s 41ms/step - loss: 0.0330 - mae: 0.1381 - val_loss: 0.0338 - val_mae: 0.1399\n",
      "Epoch 4/7\n",
      "4435/4435 [==============================] - 185s 42ms/step - loss: 0.0318 - mae: 0.1354 - val_loss: 0.0335 - val_mae: 0.1388\n",
      "Epoch 5/7\n",
      "4435/4435 [==============================] - 181s 41ms/step - loss: 0.0308 - mae: 0.1331 - val_loss: 0.0332 - val_mae: 0.1380\n",
      "Epoch 6/7\n",
      "4435/4435 [==============================] - 181s 41ms/step - loss: 0.0300 - mae: 0.1310 - val_loss: 0.0330 - val_mae: 0.1375\n",
      "Epoch 7/7\n",
      "4435/4435 [==============================] - 181s 41ms/step - loss: 0.0292 - mae: 0.1292 - val_loss: 0.0330 - val_mae: 0.1373\n"
     ]
    }
   ],
   "source": [
    "history = model.fit([train.user_id, train.movie_id], train.y,\n",
    "                    batch_size=5000,\n",
    "                    epochs=7,\n",
    "                    verbose=1,\n",
    "                    validation_data=([test.user_id, test.movie_id], test.y))"
   ]
  },
  {
   "cell_type": "markdown",
   "metadata": {},
   "source": [
    "Построим графики значений MAE для тренировочных и тестовых данных по эпохам"
   ]
  },
  {
   "cell_type": "code",
   "execution_count": 26,
   "metadata": {
    "colab": {
     "base_uri": "https://localhost:8080/",
     "height": 447
    },
    "executionInfo": {
     "elapsed": 1963,
     "status": "ok",
     "timestamp": 1683612587734,
     "user": {
      "displayName": "Marines",
      "userId": "08518313453408057027"
     },
     "user_tz": -180
    },
    "id": "lW9egqDPPI5l",
    "outputId": "41012872-f364-4f2d-e5fb-c1b446014e63"
   },
   "outputs": [
    {
     "data": {
      "image/png": "[encoded data removed]",
      "text/plain": [
       "<Figure size 800x400 with 1 Axes>"
      ]
     },
     "metadata": {},
     "output_type": "display_data"
    }
   ],
   "source": [
    "# сохранение модели\n",
    "# model.save('/content/drive/MyDrive/Colab Notebooks/saved_model')\n",
    "\n",
    "fig, ax = plt.subplots(figsize=(8, 4))\n",
    "ax.plot(history.epoch, history.history['val_mae'], label='Validation MAE')\n",
    "ax.plot(history.epoch, history.history['mae'], label='Training MAE')\n",
    "ax.set_xlabel('Epoch')\n",
    "ax.set_ylabel('MAE')\n",
    "ax.set_xlim(left=0, right=history.epoch[-1])\n",
    "ax.grid()\n",
    "fig.legend()\n",
    "plt.show()"
   ]
  },
  {
   "cell_type": "markdown",
   "metadata": {},
   "source": [
    "Видно, что значения MAE убывают, значит модель обучается корректно."
   ]
  },
  {
   "cell_type": "markdown",
   "metadata": {},
   "source": [
    "# 8. Проверка адекватности модели\n",
    "Для проверки адекватности предсказаний, сравним MAE обученной нейросети с констанотной моделью, которая для всех предсказывает средний рейтинг всех фильмов."
   ]
  },
  {
   "cell_type": "code",
   "execution_count": 21,
   "metadata": {
    "colab": {
     "base_uri": "https://localhost:8080/",
     "height": 359
    },
    "executionInfo": {
     "elapsed": 4,
     "status": "error",
     "timestamp": 1683612752952,
     "user": {
      "displayName": "Marines",
      "userId": "08518313453408057027"
     },
     "user_tz": -180
    },
    "id": "O6Pwsssy_3ul",
    "outputId": "f85b0f4a-9241-4808-aef9-b9430c9afba4"
   },
   "outputs": [
    {
     "name": "stdout",
     "output_type": "stream",
     "text": [
      "mae_recomend_net: 0.14\n",
      "mae_constant_model: 0.19\n",
      "Diff: 27%\n"
     ]
    }
   ],
   "source": [
    "mae_rec_net = history.history['val_mae'][-1]\n",
    "\n",
    "test['rating_median'] = test['y'].median()\n",
    "mae_const_model = mean_absolute_error(test['y'], test['rating_median'])\n",
    "\n",
    "print('mae_recomend_net:', round(mae_rec_net, 2))\n",
    "print('mae_constant_model:', round(mae_const_model, 2))\n",
    "print(f'Diff: {(mae_const_model - mae_rec_net) / mae_const_model:.0%}')"
   ]
  },
  {
   "cell_type": "markdown",
   "metadata": {},
   "source": [
    "В этом случае средняя абсолютная ошибка предсказаний нейронной сети ниже на 27%, чем у константной модели.\n",
    "\n",
    "Также, сравним наш результат с другой константной моделью, которая всегда предсказывает среднний рейтинг соответствующего фильма."
   ]
  },
  {
   "cell_type": "code",
   "execution_count": 27,
   "metadata": {},
   "outputs": [
    {
     "name": "stdout",
     "output_type": "stream",
     "text": [
      "mae_recomend_net: 0.14\n",
      "mae_constant_model_2: 0.17\n",
      "Diff: 17%\n"
     ]
    }
   ],
   "source": [
    "mean_rate = df.groupby(['movie_id'], as_index=False) \\\n",
    ".agg({'y' : 'mean'}) \\\n",
    ".rename(columns={'y':'mean_rate'})\n",
    "mean_rate = mean_rate.to_dict()\n",
    "\n",
    "test['mean_movie_rate'] = test['movie_id'].map(mean_rate['mean_rate'])\n",
    "mae_const_model_2 = mean_absolute_error(test['y'], test['mean_movie_rate'])\n",
    "\n",
    "print('mae_recomend_net:', round(mae_rec_net, 2))\n",
    "print('mae_constant_model_2:', round(mae_const_model_2, 2))\n",
    "print(f'Diff: {(mae_const_model_2 - mae_rec_net) / mae_const_model_2:.0%}')"
   ]
  },
  {
   "cell_type": "markdown",
   "metadata": {},
   "source": [
    "В сравнении с константной моделью 2, нейронаая сеть предсказывает рейтинг лучше на 17% - тоже неплохо."
   ]
  },
  {
   "cell_type": "markdown",
   "metadata": {},
   "source": [
    "# 9. Вывод\n",
    "\n",
    "__Предобработка данных:__<br>\n",
    "- объединены две таблицы 'ratings' и 'movies';<br>\n",
    "- из названий фильмов выделен новый признак - 'release_year';<br>\n",
    "- для сужения диапазона значений, 'movie_id' был закодирован с применением LabelEncoder() из библиотеки sklearn;<br>\n",
    "- для улучшения качества предсказаний, значения рейтингов были нормализованы (переменная 'y');<br>\n",
    "- для формирования тренировочной и тестовой выборки, данные были отсортированы в хронологическом порядке (по переменной 'timestamp');<br>\n",
    "- удалена переменная 'timestamp';\n",
    "- пропусков и дубликтов не обнаружено;\n",
    "- типы данных соответствующие;\n",
    "- аномальных значений не обнаружено;\n",
    "\n",
    "__Анализ:__<br>\n",
    "- Уникальных пользователей: 283 228;<br>\n",
    "- Уникальных фильмов: 53 889;<br>\n",
    "- Рейтинг варьируется от 0.5 до 5 (с шагом 0.5);<br>\n",
    "- Средний рейтинг фильмов: 3.5.<br>\n",
    "\n",
    "- ТОП 5 фильмов:\n",
    "  - Toy Story 2010\n",
    "  - Shawshank Redemption 1994\n",
    "  - Forrest Gump 1994\n",
    "  - Pulp Fiction 1994\n",
    "  - Silence of Lambs 1991\n",
    "  \n",
    "__Формирование тестовой и тренировочной выборки:__<br>\n",
    "Для разделения данных на тестовую и валидационную выборки учитывалась активность пользователей (количество поставленных оценок). Условно разделили пользователей на \"новичков\" (< 5 оценок) и \"опытных\". Для новичков в качестве рекоммендаций составлен ТОП 15 фильмов. Оценки остальных пользователей разделим на треинровочную и тестовую выборки, чтобы в валидационной выборке не оказалось id, которых нет в тренировочном наборе.\n",
    "\n",
    "\n",
    "__Архитектура нейронной сети:__<br>\n",
    "Отдельные эмбеддинги для пользователей и фильмов объединяются в один вектор, подаются на несколько скрытых слоев с функцией активации Relu - для отбрасывания отрицательных значений в признаках. Последний линейный слой предсказывает значения целевой переменной (нормализованного рейтинга).\n",
    "В качетсве метрики оценки качества модели была выбрана средняя абсолютная ошибка из-за простоты интерпретации.\n",
    "\n",
    "__Обучение и проверка качества предсказаний - сравнение с константными моделями:__\n",
    "Для проверки адекватности предсказаний, обученная сеть сравнивалась с двумя константными моделями:\n",
    "\n",
    "1. конст. модель 1 предсказывает общий средний рейтинг\n",
    "2. конст. модель 2 предсказывает средний рейтинг для каждого фильма\n",
    "\n",
    "mae_recomend_net: 0.14<br>\n",
    "mae_constant_model: 0.19<br>\n",
    "Diff: 27%<br>\n",
    "\n",
    "mae_recomend_net: 0.14<br>\n",
    "mae_constant_model_2: 0.17<br>\n",
    "Diff: 17%<br>\n",
    "\n",
    "В первом случае качество предсказаний нейронной сети лучше на 27%, во втором - на 17%.\n",
    "\n",
    "__Заключение:__<br>\n",
    "\n",
    "Данная архитектура работает, но для улучшения качества предсказаний следует добавить больше признаков, например преобразовать год выпуска фильма, оценку IMDB и характерные для фильма слова из отзывов пользоваталей. "
   ]
  },
  {
   "cell_type": "code",
   "execution_count": null,
   "metadata": {},
   "outputs": [],
   "source": []
  },
  {
   "cell_type": "code",
   "execution_count": null,
   "metadata": {},
   "outputs": [],
   "source": []
  },
  {
   "cell_type": "code",
   "execution_count": null,
   "metadata": {},
   "outputs": [],
   "source": [
    "https://colab.research.google.com/drive/1G3Rx1rC5y_2R7PsUyFOS4Zuat0kFMtZ0?usp=sharing"
   ]
  }
 ],
 "metadata": {
  "colab": {
   "authorship_tag": "ABX9TyOF3qoXJzSj2RG7ZfzVRmCi",
   "mount_file_id": "1negAHIuxGTfrfRXVPGnp98aBuWwfwqnU",
   "provenance": [
    {
     "file_id": "1JXIZBi8EBjhRGncKvdq_d3NurqkDxfRf",
     "timestamp": 1683470432236
    }
   ]
  },
  "kernelspec": {
   "display_name": "Python 3 (ipykernel)",
   "language": "python",
   "name": "python3"
  },
  "language_info": {
   "codemirror_mode": {
    "name": "ipython",
    "version": 3
   },
   "file_extension": ".py",
   "mimetype": "text/x-python",
   "name": "python",
   "nbconvert_exporter": "python",
   "pygments_lexer": "ipython3",
   "version": "3.9.13"
  }
 },
 "nbformat": 4,
 "nbformat_minor": 4
}
